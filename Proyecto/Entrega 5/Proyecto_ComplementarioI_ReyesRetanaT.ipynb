{
 "cells": [
  {
   "attachments": {},
   "cell_type": "markdown",
   "metadata": {},
   "source": [
    "# Pre Entrega #5:\n",
    "### Proyecto Complementario I.\n",
    "#### José María Reyes Retana Tamayo\n",
    "##### Data Science - 32845\n",
    "##### Profesor: Luis Ramírez\n",
    "##### Jesús Alfredo Mogel Chim"
   ]
  },
  {
   "attachments": {},
   "cell_type": "markdown",
   "metadata": {},
   "source": [
    "### Validación de Overfit o Underfit"
   ]
  },
  {
   "attachments": {},
   "cell_type": "markdown",
   "metadata": {},
   "source": [
    "Se dice que un modelo de Machine Learnig tiende al fallo por \"overfit\" cuando trabaja de manera correcta con el conjunto de datos de entrenamiento, pero no con el de prueba. Y que el fallo es por \"underfit\" cuando los errores están ya presentes con el conjunto de entrenamiento."
   ]
  },
  {
   "cell_type": "code",
   "execution_count": 1,
   "metadata": {},
   "outputs": [],
   "source": [
    "# Importación de librerías a usar:\n",
    "import pandas as pd\n",
    "import numpy as np\n",
    "import matplotlib as mpl\n",
    "import matplotlib.pyplot as plt\n",
    "import seaborn as sns\n",
    "\n",
    "# Ubicación del archivo CSV dentro de el Codespace:\n",
    "data_set_csv = \"/workspaces/Coderhouse/Proyecto/Data/Raw/Beer Profiles and Ratings.csv\"\n",
    "\n",
    "# Creación del Data Frame:\n",
    "data_set = pd.read_csv(data_set_csv)\n",
    "data_frame = pd.DataFrame(data_set)\n",
    "\n",
    "# Creación del Data Frame de trabajo y copia de valores:\n",
    "wrk_df = data_frame.copy()\n",
    "\n",
    "# Características para nuestros gráficos.\n",
    "mpl.rcParams['axes.titleweight'] = 'heavy'"
   ]
  },
  {
   "cell_type": "code",
   "execution_count": 2,
   "metadata": {},
   "outputs": [],
   "source": [
    "#Para evitar texto de advertencias en los resultados.\n",
    "import warnings\n",
    "warnings.filterwarnings(\"ignore\")"
   ]
  },
  {
   "cell_type": "code",
   "execution_count": 3,
   "metadata": {},
   "outputs": [],
   "source": [
    "# Renombramos la columna \"Beer Name (Full)\" para evitar errores de código:\n",
    "wrk_df.rename(columns = {'Beer Name (Full)' : 'Full_name'}, inplace = True)\n",
    "\n",
    "# Columna \"Name\" se usa como índice.\n",
    "#wrk_df = wrk_df.set_index('Name')\n",
    "\n",
    "# Obtenemos un array con el promedio de IBU de cada cerveza.\n",
    "prom_IBU = pd.DataFrame((wrk_df[[\"Min IBU\", \"Max IBU\"]].mean(axis = 1)), columns = ['IBU_Promedio'])\n",
    "\n",
    "# Agregamos la columna IBU Promedio a nuestra copia del Data Set.\n",
    "wrk_df = pd.concat([wrk_df,prom_IBU], axis = 1)\n",
    "\n",
    "# Creamos una columna que identique las cervezas si tienen más o menos de 35 Grados IBU:\n",
    "wrk_df['amargor'] = np.where(wrk_df['IBU_Promedio'] > 35, 'Muy amarga', 'Poco Amarga')\n",
    "\n",
    "# Separando la columna Style\n",
    "wrk_df[[\"Style\", \"Secondary Style\"]] = wrk_df.Style.str.split(\" - \", expand = True)\n",
    "\n",
    "# Creamos una columna que identique las cervezas si tienen más o menos de 6° de alcohol:\n",
    "wrk_df['nivel_alcohol'] = np.where(wrk_df['ABV'] >= 6, 'Alto', 'Promedio')"
   ]
  },
  {
   "cell_type": "code",
   "execution_count": 4,
   "metadata": {},
   "outputs": [],
   "source": [
    "# Calculamos el valor promedio de los Grados IBU y de calificaciones por cerveza.\n",
    "IBU_promedio = wrk_df[\"IBU_Promedio\"].mean()\n",
    "prom_no_calif = wrk_df[\"number_of_reviews\"].mean()"
   ]
  },
  {
   "cell_type": "code",
   "execution_count": 5,
   "metadata": {},
   "outputs": [],
   "source": [
    "#Se separa la variable objetivo (target feature) en un vector:\n",
    "flav_obj = wrk_df['review_taste']"
   ]
  },
  {
   "cell_type": "code",
   "execution_count": 6,
   "metadata": {},
   "outputs": [],
   "source": [
    "#Importamos una linbrería más con la que se trabajará:\n",
    "from scipy import stats\n",
    "import statsmodels.api as sm"
   ]
  },
  {
   "cell_type": "code",
   "execution_count": 7,
   "metadata": {},
   "outputs": [],
   "source": [
    "#Importación de librerías y funciones para construir el algoritmo de clasificación y evaluarlo.\n",
    "from sklearn.ensemble import RandomForestClassifier\n",
    "from sklearn.model_selection import train_test_split\n",
    "from sklearn import metrics\n",
    "from sklearn.metrics import confusion_matrix, ConfusionMatrixDisplay"
   ]
  },
  {
   "cell_type": "code",
   "execution_count": 8,
   "metadata": {},
   "outputs": [
    {
     "data": {
      "text/html": [
       "<div>\n",
       "<style scoped>\n",
       "    .dataframe tbody tr th:only-of-type {\n",
       "        vertical-align: middle;\n",
       "    }\n",
       "\n",
       "    .dataframe tbody tr th {\n",
       "        vertical-align: top;\n",
       "    }\n",
       "\n",
       "    .dataframe thead th {\n",
       "        text-align: right;\n",
       "    }\n",
       "</style>\n",
       "<table border=\"1\" class=\"dataframe\">\n",
       "  <thead>\n",
       "    <tr style=\"text-align: right;\">\n",
       "      <th></th>\n",
       "      <th>ABV</th>\n",
       "      <th>IBU_Promedio</th>\n",
       "      <th>Astringency</th>\n",
       "      <th>Body</th>\n",
       "      <th>Alcohol</th>\n",
       "      <th>Bitter</th>\n",
       "      <th>Sweet</th>\n",
       "      <th>Sour</th>\n",
       "      <th>Salty</th>\n",
       "      <th>Fruits</th>\n",
       "      <th>Hoppy</th>\n",
       "      <th>Spices</th>\n",
       "      <th>Malty</th>\n",
       "    </tr>\n",
       "  </thead>\n",
       "  <tbody>\n",
       "    <tr>\n",
       "      <th>0</th>\n",
       "      <td>5.3</td>\n",
       "      <td>37.5</td>\n",
       "      <td>13</td>\n",
       "      <td>32</td>\n",
       "      <td>9</td>\n",
       "      <td>47</td>\n",
       "      <td>74</td>\n",
       "      <td>33</td>\n",
       "      <td>0</td>\n",
       "      <td>33</td>\n",
       "      <td>57</td>\n",
       "      <td>8</td>\n",
       "      <td>111</td>\n",
       "    </tr>\n",
       "    <tr>\n",
       "      <th>1</th>\n",
       "      <td>7.2</td>\n",
       "      <td>37.5</td>\n",
       "      <td>12</td>\n",
       "      <td>57</td>\n",
       "      <td>18</td>\n",
       "      <td>33</td>\n",
       "      <td>55</td>\n",
       "      <td>16</td>\n",
       "      <td>0</td>\n",
       "      <td>24</td>\n",
       "      <td>35</td>\n",
       "      <td>12</td>\n",
       "      <td>84</td>\n",
       "    </tr>\n",
       "    <tr>\n",
       "      <th>2</th>\n",
       "      <td>5.0</td>\n",
       "      <td>37.5</td>\n",
       "      <td>14</td>\n",
       "      <td>37</td>\n",
       "      <td>6</td>\n",
       "      <td>42</td>\n",
       "      <td>43</td>\n",
       "      <td>11</td>\n",
       "      <td>0</td>\n",
       "      <td>10</td>\n",
       "      <td>54</td>\n",
       "      <td>4</td>\n",
       "      <td>62</td>\n",
       "    </tr>\n",
       "    <tr>\n",
       "      <th>3</th>\n",
       "      <td>8.5</td>\n",
       "      <td>37.5</td>\n",
       "      <td>13</td>\n",
       "      <td>55</td>\n",
       "      <td>31</td>\n",
       "      <td>47</td>\n",
       "      <td>101</td>\n",
       "      <td>18</td>\n",
       "      <td>1</td>\n",
       "      <td>49</td>\n",
       "      <td>40</td>\n",
       "      <td>16</td>\n",
       "      <td>119</td>\n",
       "    </tr>\n",
       "    <tr>\n",
       "      <th>4</th>\n",
       "      <td>7.2</td>\n",
       "      <td>37.5</td>\n",
       "      <td>25</td>\n",
       "      <td>51</td>\n",
       "      <td>26</td>\n",
       "      <td>44</td>\n",
       "      <td>45</td>\n",
       "      <td>9</td>\n",
       "      <td>1</td>\n",
       "      <td>11</td>\n",
       "      <td>51</td>\n",
       "      <td>20</td>\n",
       "      <td>95</td>\n",
       "    </tr>\n",
       "    <tr>\n",
       "      <th>...</th>\n",
       "      <td>...</td>\n",
       "      <td>...</td>\n",
       "      <td>...</td>\n",
       "      <td>...</td>\n",
       "      <td>...</td>\n",
       "      <td>...</td>\n",
       "      <td>...</td>\n",
       "      <td>...</td>\n",
       "      <td>...</td>\n",
       "      <td>...</td>\n",
       "      <td>...</td>\n",
       "      <td>...</td>\n",
       "      <td>...</td>\n",
       "    </tr>\n",
       "    <tr>\n",
       "      <th>3192</th>\n",
       "      <td>8.8</td>\n",
       "      <td>42.5</td>\n",
       "      <td>15</td>\n",
       "      <td>37</td>\n",
       "      <td>24</td>\n",
       "      <td>35</td>\n",
       "      <td>46</td>\n",
       "      <td>19</td>\n",
       "      <td>0</td>\n",
       "      <td>23</td>\n",
       "      <td>45</td>\n",
       "      <td>67</td>\n",
       "      <td>74</td>\n",
       "    </tr>\n",
       "    <tr>\n",
       "      <th>3193</th>\n",
       "      <td>6.0</td>\n",
       "      <td>42.5</td>\n",
       "      <td>15</td>\n",
       "      <td>31</td>\n",
       "      <td>23</td>\n",
       "      <td>16</td>\n",
       "      <td>54</td>\n",
       "      <td>43</td>\n",
       "      <td>0</td>\n",
       "      <td>54</td>\n",
       "      <td>14</td>\n",
       "      <td>140</td>\n",
       "      <td>58</td>\n",
       "    </tr>\n",
       "    <tr>\n",
       "      <th>3194</th>\n",
       "      <td>6.8</td>\n",
       "      <td>42.5</td>\n",
       "      <td>8</td>\n",
       "      <td>44</td>\n",
       "      <td>24</td>\n",
       "      <td>19</td>\n",
       "      <td>52</td>\n",
       "      <td>21</td>\n",
       "      <td>0</td>\n",
       "      <td>26</td>\n",
       "      <td>21</td>\n",
       "      <td>96</td>\n",
       "      <td>77</td>\n",
       "    </tr>\n",
       "    <tr>\n",
       "      <th>3195</th>\n",
       "      <td>7.5</td>\n",
       "      <td>42.5</td>\n",
       "      <td>11</td>\n",
       "      <td>36</td>\n",
       "      <td>50</td>\n",
       "      <td>70</td>\n",
       "      <td>72</td>\n",
       "      <td>59</td>\n",
       "      <td>0</td>\n",
       "      <td>81</td>\n",
       "      <td>110</td>\n",
       "      <td>18</td>\n",
       "      <td>73</td>\n",
       "    </tr>\n",
       "    <tr>\n",
       "      <th>3196</th>\n",
       "      <td>8.6</td>\n",
       "      <td>42.5</td>\n",
       "      <td>8</td>\n",
       "      <td>50</td>\n",
       "      <td>49</td>\n",
       "      <td>13</td>\n",
       "      <td>71</td>\n",
       "      <td>17</td>\n",
       "      <td>0</td>\n",
       "      <td>33</td>\n",
       "      <td>16</td>\n",
       "      <td>148</td>\n",
       "      <td>69</td>\n",
       "    </tr>\n",
       "  </tbody>\n",
       "</table>\n",
       "<p>3197 rows × 13 columns</p>\n",
       "</div>"
      ],
      "text/plain": [
       "      ABV  IBU_Promedio  Astringency  Body  Alcohol  Bitter  Sweet  Sour  \\\n",
       "0     5.3          37.5           13    32        9      47     74    33   \n",
       "1     7.2          37.5           12    57       18      33     55    16   \n",
       "2     5.0          37.5           14    37        6      42     43    11   \n",
       "3     8.5          37.5           13    55       31      47    101    18   \n",
       "4     7.2          37.5           25    51       26      44     45     9   \n",
       "...   ...           ...          ...   ...      ...     ...    ...   ...   \n",
       "3192  8.8          42.5           15    37       24      35     46    19   \n",
       "3193  6.0          42.5           15    31       23      16     54    43   \n",
       "3194  6.8          42.5            8    44       24      19     52    21   \n",
       "3195  7.5          42.5           11    36       50      70     72    59   \n",
       "3196  8.6          42.5            8    50       49      13     71    17   \n",
       "\n",
       "      Salty  Fruits  Hoppy  Spices  Malty  \n",
       "0         0      33     57       8    111  \n",
       "1         0      24     35      12     84  \n",
       "2         0      10     54       4     62  \n",
       "3         1      49     40      16    119  \n",
       "4         1      11     51      20     95  \n",
       "...     ...     ...    ...     ...    ...  \n",
       "3192      0      23     45      67     74  \n",
       "3193      0      54     14     140     58  \n",
       "3194      0      26     21      96     77  \n",
       "3195      0      81    110      18     73  \n",
       "3196      0      33     16     148     69  \n",
       "\n",
       "[3197 rows x 13 columns]"
      ]
     },
     "execution_count": 8,
     "metadata": {},
     "output_type": "execute_result"
    }
   ],
   "source": [
    "#Construcción del nuevo data frame con las variables deseadas:\n",
    "wrk_df3 = wrk_df[['ABV', 'IBU_Promedio', 'Astringency', 'Body', 'Alcohol', 'Bitter', 'Sweet', 'Sour', 'Salty', 'Fruits', 'Hoppy', 'Spices', 'Malty']].copy()\n",
    "wrk_df3"
   ]
  },
  {
   "cell_type": "code",
   "execution_count": 9,
   "metadata": {},
   "outputs": [],
   "source": [
    "#Establecemos la variable objetivo:\n",
    "estilo_obj = wrk_df[['Style']]"
   ]
  },
  {
   "attachments": {},
   "cell_type": "markdown",
   "metadata": {},
   "source": [
    "Probamos con el conjunto de prueba después de entrenar a nuestro modelo."
   ]
  },
  {
   "cell_type": "code",
   "execution_count": 10,
   "metadata": {},
   "outputs": [],
   "source": [
    "#Separamos en entrenamiento/prueba en razón 80/20 %\n",
    "X_train, X_test, y_train, y_test = train_test_split(wrk_df3, estilo_obj, test_size=0.2, random_state = 1)\n",
    "#Creamos un modelo Random Forest con parametros por defect\n",
    "modelo1 = RandomForestClassifier(random_state = 1)\n",
    "modelo1.fit(X_train, y_train)\n",
    "#Obtenemos las predicciones del modelo con X_test\n",
    "predicciones = modelo1.predict(X_test) "
   ]
  },
  {
   "cell_type": "code",
   "execution_count": 11,
   "metadata": {},
   "outputs": [],
   "source": [
    "#Convertimos el DataFrame de respuestas de la prueba en un array para comparar con las predicciones\n",
    "prueba1 = y_test['Style'].to_numpy()"
   ]
  },
  {
   "cell_type": "code",
   "execution_count": 12,
   "metadata": {},
   "outputs": [],
   "source": [
    "#Comparación de los arrays y creación de arrays binarios.\n",
    "pred1 = []\n",
    "resp1 = []\n",
    "for i in range(len(prueba1)):\n",
    "    if prueba1[i] == predicciones[i]:\n",
    "        pred1.append(1)\n",
    "    else:\n",
    "        pred1.append(0)\n",
    "    resp1.append(1)"
   ]
  },
  {
   "cell_type": "code",
   "execution_count": 13,
   "metadata": {},
   "outputs": [
    {
     "data": {
      "text/plain": [
       "array([[  0, 167],\n",
       "       [  0, 473]])"
      ]
     },
     "execution_count": 13,
     "metadata": {},
     "output_type": "execute_result"
    }
   ],
   "source": [
    "#Creación de la matriz de confusión 1\n",
    "matriz1 = metrics.confusion_matrix(pred1, resp1)\n",
    "matriz1"
   ]
  },
  {
   "cell_type": "code",
   "execution_count": 14,
   "metadata": {},
   "outputs": [
    {
     "data": {
      "text/plain": [
       "<sklearn.metrics._plot.confusion_matrix.ConfusionMatrixDisplay at 0x7f0d0bc17ee0>"
      ]
     },
     "execution_count": 14,
     "metadata": {},
     "output_type": "execute_result"
    },
    {
     "data": {
      "image/png": "[encoded data removed]",
      "text/plain": [
       "<Figure size 640x480 with 2 Axes>"
      ]
     },
     "metadata": {},
     "output_type": "display_data"
    }
   ],
   "source": [
    "#Gráfica de la matriz 1\n",
    "disp1 = metrics.ConfusionMatrixDisplay(confusion_matrix = matriz1)\n",
    "disp1.plot()"
   ]
  },
  {
   "cell_type": "code",
   "execution_count": 15,
   "metadata": {},
   "outputs": [
    {
     "name": "stdout",
     "output_type": "stream",
     "text": [
      "La exactitud de este modelo es de  73.91%\n"
     ]
    }
   ],
   "source": [
    "exactitud1 = ((473/640)*100)\n",
    "# Precisión y la sensibilidad tendrían valor de 100%, puesto que no hay FP ni FN.\n",
    "print(f\"La exactitud de este modelo es de {exactitud1 : .2f}%\")"
   ]
  },
  {
   "attachments": {},
   "cell_type": "markdown",
   "metadata": {},
   "source": [
    "En la sección anterior se probó la exactitud de las predicciones con respecto al conjunto de datos de entrenamiento."
   ]
  },
  {
   "cell_type": "code",
   "execution_count": 16,
   "metadata": {},
   "outputs": [],
   "source": [
    "#Obtenemos las predicciones del modelo con X_train\n",
    "predicciones2 = modelo1.predict(X_train)\n",
    "#Conjunto de respuestas correctas del entrenamiento y_train\n",
    "entre1 = y_train['Style'].to_numpy()\n",
    "#Convertimos a datos binarios\n",
    "pred2 = []\n",
    "resp2 = []\n",
    "for i in range(len(entre1)):\n",
    "    if entre1[i] == predicciones2[i]:\n",
    "        pred2.append(1)\n",
    "    else:\n",
    "        pred2.append(0)\n",
    "    resp2.append(1)"
   ]
  },
  {
   "cell_type": "code",
   "execution_count": 17,
   "metadata": {},
   "outputs": [],
   "source": [
    "#Creamos la matriz de confusión\n",
    "matriz2 = metrics.confusion_matrix(pred2, resp2)"
   ]
  },
  {
   "cell_type": "code",
   "execution_count": 18,
   "metadata": {},
   "outputs": [
    {
     "data": {
      "text/plain": [
       "<sklearn.metrics._plot.confusion_matrix.ConfusionMatrixDisplay at 0x7f0d0b9972b0>"
      ]
     },
     "execution_count": 18,
     "metadata": {},
     "output_type": "execute_result"
    },
    {
     "data": {
      "image/png": "[encoded data removed]",
      "text/plain": [
       "<Figure size 640x480 with 2 Axes>"
      ]
     },
     "metadata": {},
     "output_type": "display_data"
    }
   ],
   "source": [
    "#Presentamos gráfico de matriz\n",
    "disp2 = metrics.ConfusionMatrixDisplay(confusion_matrix = matriz2)\n",
    "disp2.plot()"
   ]
  },
  {
   "attachments": {},
   "cell_type": "markdown",
   "metadata": {},
   "source": [
    "### Conclusiones del trabajo:"
   ]
  },
  {
   "attachments": {},
   "cell_type": "markdown",
   "metadata": {},
   "source": [
    "Podemos observar que el modelo tiene un 100% de exactitud, esto pudiera ser sinónimo de que hay **Overfitting** en nuestro modelo, puesto que no tenemos más datos para complementar la información, se deberá cambiar el modelo por uno más sencillo de ser posible."
   ]
  }
 ],
 "metadata": {
  "kernelspec": {
   "display_name": "Python 3",
   "language": "python",
   "name": "python3"
  },
  "language_info": {
   "codemirror_mode": {
    "name": "ipython",
    "version": 3
   },
   "file_extension": ".py",
   "mimetype": "text/x-python",
   "name": "python",
   "nbconvert_exporter": "python",
   "pygments_lexer": "ipython3",
   "version": "3.10.4"
  },
  "orig_nbformat": 4,
  "vscode": {
   "interpreter": {
    "hash": "3ad933181bd8a04b432d3370b9dc3b0662ad032c4dfaa4e4f1596c548f763858"
   }
  }
 },
 "nbformat": 4,
 "nbformat_minor": 2
}
