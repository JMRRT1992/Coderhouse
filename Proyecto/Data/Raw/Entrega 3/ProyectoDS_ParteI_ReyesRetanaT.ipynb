{
 "cells": [
  {
   "attachments": {},
   "cell_type": "markdown",
   "metadata": {},
   "source": [
    "# Pre Entrega #3:\n",
    "### Proyecto Data Scientist Parte I.\n",
    "#### José María Reyes Retana Tamayo\n",
    "##### Data Science - 32845\n",
    "##### Profesor: Luis Ramírez\n",
    "##### Jesús Alfredo Mogel Chim"
   ]
  },
  {
   "attachments": {},
   "cell_type": "markdown",
   "metadata": {},
   "source": [
    "### Resumen (Abstract):"
   ]
  },
  {
   "attachments": {},
   "cell_type": "markdown",
   "metadata": {},
   "source": [
    "Se ha elegido trabajar con el data set nombrado \"Beer Profiles and Ratings\", obtenido de Kaggle en:\n",
    "###### https://www.kaggle.com/code/aeryan/spotify-music-analysis/data"
   ]
  },
  {
   "attachments": {},
   "cell_type": "markdown",
   "metadata": {},
   "source": [
    "El siguiente estudio se centra en el análisis de un conjunto de 3197 marcas de cervezas de 934 compañías productoras de cerveza que han sido evaluadas por usuarios a través de cuestionarios en línea, así mismo, se cuenta con la información reportada por las productoras sobre sus bebidas. Las cervezas son locales y son solamente de EEUU, del mismo modo, las evaluaciones son emitidas únicamente por consumidores de dicho país, por lo que este estudio no debe considerarse como válido para cualquier región fuera de los EEUU y más bien será tratado como una muestra pequeña dentro del universo cervecero pero que puede orientar a los lectores en cuanto a las tendencias y gustos vigentes.\n",
    "\n",
    "La intención de este estudio ha sido la de comparar la información presentada por los productores de cerveza y comparar estos valores con las evaluaciones de los usuarios con la intención de encontrar que variables son las que más afectan a que una cerveza obtenga buenos resultados en el mercado de cervezas artesanales de los EEUU. Para lo anterior, se han realizado primero una indagación de los datos de forma gráfica a modo de análisis exploratorio de la información y obtención preliminar de resultados. Siguiente, se realizaron los cálculos matemáticos estadíticos para obtener valores de desviación estándar de las variables analizadas, coeficientes de correlación (donde así se propuso), prueba de hipótesis mediante el llamado \"p valor\", entre otros.\n",
    "\n",
    "Las principales variables analizadas para este estudio han sido las relacionadas con el sabor de la cerveza: amargor y alcohol; y se han comparado con la evaluación que los consumidores han dado en las clasificaciones de: Aroma, Apariencia, Sensación en el Paladar, Sabor y Evaluación General.\n",
    "\n",
    "[Para esta entrega, está pendiente la sección del Resumen en la que se habla de los resultados, pues aún es una etapa preliminar del trabajo final.]"
   ]
  },
  {
   "attachments": {},
   "cell_type": "markdown",
   "metadata": {},
   "source": [
    "### Definición de las Variables:"
   ]
  },
  {
   "attachments": {},
   "cell_type": "markdown",
   "metadata": {},
   "source": [
    "Este data set contiene 25 columnas, las cuales se describen a continuación.\n",
    "\n",
    "* Name: nombre de la cerveza, como se presenta en la etiqueta.\n",
    "\n",
    "* Style: estilo de la cerveza.\n",
    "\n",
    "* Brewery: nombre de la compañía cervecera que produce.\n",
    "\n",
    "* Beer Name (Full): identificador único para cada cerveza, presenta nombre de la cerveza y la cervecera.\n",
    "\n",
    "* Description: descripción de la cerveza de acuerdo al productor, no disponible para todas las cervezas presentadas.\n",
    "\n",
    "* ABV: contenido de alcohol (% por volumen).\n",
    "###### “International Bitterness Unit”, es la unidad utilizada para cuantificar que tan amarga es una cerveza. Los valores se presentan en un intervalo de 0 a 100, donde 0 es nada amargo y valores cercanos a 100 representan un alto grado de amargura.\n",
    "* Min IBU: en esta columna se presentan los valores mínimos esperados de amargura.\n",
    "\n",
    "* Max IBU: en esta columna se presentan los valores máximos esperados de amargura.\n",
    "###### Las siguientes columnas presentan una calificación arbitraria otorgada por el autor del documento, que para este estudio se simplificará solo al valor numérico. Para cada uno de los aspectos evaluados por los consumidores. Entre mayor es la calificación, significa que dicha característica es más remarcable o evidente en la bebida.\n",
    "* Astringency: astringencia.\n",
    "\n",
    "* Body: cuerpo, que tan “densa” se siente en la boca.\n",
    "\n",
    "* Alcohol: sensación de alcohol. No confundir con los grados de alcohol que es una medida objetiva, esta es la sensación que los consumidores tuvieron.\n",
    "\n",
    "* Bitter: amargor. No confundir con los grados IBU que es una medida objetiva, esta es la sensación que los consumidores tuvieron.\n",
    "\n",
    "* Sweet: dulzor.\n",
    "\n",
    "* Sour: sabor ácido.\n",
    "\n",
    "* Fruits: sabor afrutado.\n",
    "\n",
    "* Hoppy: sabor a lúpulo.\n",
    "\n",
    "* Spices: sabor a especias.\n",
    "\n",
    "* Malty: sabor a malta (de cebada, trigo o cualquiera que sea el cereal con el que se elaboró la cerveza).\n",
    "###### Las últimas seis columnas presentan la calificación general que los consumidores otorgaron a los distintos aspectos de la cerveza y el promedio general. Las calificaciones van del 0 al 5, puesto que la información fue obtenida de un portal donde se evaluaba mediante estrellas, siendo 5 el máximo valor posible.\n",
    "* review _ aroma: evaluación del aroma (percepción olfativa) de la cerveza.\n",
    "\n",
    "* review _ appearance: evaluación de la apariencia (percepción visual) de la cerveza.\n",
    "\n",
    "* review _ palate: evaluación de la sensación en el paladar.\n",
    "\n",
    "* review _ taste: evaluación del sabor (percepción del gusto) de la cerveza.\n",
    "\n",
    "* review _ overall: evaluación global de la cerveza.\n",
    "* number _ of _ reviews: total de evaluaciones recibidas."
   ]
  },
  {
   "attachments": {},
   "cell_type": "markdown",
   "metadata": {},
   "source": [
    "### Hipótesis del proyecto:"
   ]
  },
  {
   "attachments": {},
   "cell_type": "markdown",
   "metadata": {},
   "source": [
    "Puesto que el proyecto se centrará principalmente en dos variables fáciles de medir y comunmente reportadas por los productores de cerveza: Grados IBU (nivel de amargor) y Grados de Alcohol, se han planteado 4 hipótesis en torno a esto:\n",
    "\n",
    "**1)** *Entre mayor sea la clasificación de grados IBU de una cerveza, esta tendrá un mercado más de nicho, por lo que: habrá menos cantidad de cervezas con grados IBU elevados.*\n",
    "\n",
    "**2)** *Las cervezas con mayores grados IBU tendrán menos consumidores (por ende un menor número de calificaciones).*\n",
    "\n",
    "**3)** *La calificación dada al sabor será la que mayor correlación positiva tenga con respecto a la calificación global.*\n",
    "\n",
    "**4)** *Las cervezas con un porcentaje de alcohol mayor a 6° tendrán un promedio de calificación global menor que aquellas de* menos de 6°.\n"
   ]
  },
  {
   "attachments": {},
   "cell_type": "markdown",
   "metadata": {},
   "source": [
    "### Métodos de evaluación de las hipótesis:"
   ]
  },
  {
   "attachments": {},
   "cell_type": "markdown",
   "metadata": {},
   "source": [
    "Respecto a las hipótesis **1)** y **2)**, primero definiremos lo que miden los grados IBU y como se relacionan con los componentes de la cerveza y crearemos una columna que contenga los valores del promedio de Máx. IBU y Mín. IBU, para tener un valor trabajable único por producto.\n",
    "\n",
    "Los grados IBU de una cerveza representan el amargor que esta pueda tener en su sabor y van directamente relacionados a la aportación de lúpulo (hops en inglés) durante el proceso de elaboración de la bebida, por lo anterior, las variables contra las que compararemos nuestra columna creada de \"IBU_Promedio\", serán:\n",
    "* Calificación de sabor (review_taste).\n",
    "* Sensación de lúpulo (Hoppy).\n",
    "\n",
    "De acuerdo con el portal \"https://www.beersandtrips.com/\" podemos clasificar las cervezas de acuerdo a sus grados IBU como:\n",
    "* De 5 a 20 IBU Poco amarga.\n",
    "* De 21 a 35 IBU Amarga.\n",
    "* De 36 a 50 IBU Bastante amarga.\n",
    "* Más de 50 IBU Muy amarga.\n",
    "* Más de 100 IBU Solo apta para fans del amargor extra.\n",
    "\n",
    "Por lo anterior, para fines de este estudio, consideraremos \"*grados IBU más elevados*\" como todos aquellos superiores a 35.\n",
    "\n",
    "Estas dos columnas se evaluarán para medir que tanto afectan los Grados IBU a la calificación específica de sabor en la bebida y para evaluar que tanto relacionan los consumidores el sabor amargo con su causante, el lúpulo. Esto se realiza para entender mejor la relación entre el amargor de una cerveza y la percepción que se tiene de ella, del mismo modo, empezar a crear una forma de evaluar la hipótesis **4)**.\n",
    "\n",
    "Del, mismo modo, para evaluar la hipótesis **1)**, obtendremos el número de valores únicos de la columna \"Beer Name (Full)\" para conocer cuantas cervezas totales hay y filtraremos para aquellas con un valor de IBU promedio igual o mayor que 35.\n",
    "\n",
    "Para evaluar la hipótesis **2)** se obtendrá el número de calificaciones para cervezas con valores de IBU promedio igual o mayores a 35, filtrando la columna \"number_of_reviews\".\n",
    "\n",
    "Para comprobar la hipótesis **3)**, se hará una revisión cruzada de todas las variables relacionadas a las reseñas/calificación de los encuestados, encontrando si exiten correlaciones entre ellas y cual es la mejor combinación para tener una calificación positiva (mayor a 2.5 en nuestra escala). Principalmente se observará la correlación (gráfica y numérica) existente entre los valores de Calificación de Sabor y Calificación Global.\n",
    "\n",
    "Por último, para evaluar la hipótesis **4)** se evaluarán las columnas de reseña (Sabor, Aroma, Sensación en Paladar, Apariencia y Global) comparando con la columna de ABV (Grados de Alcohol por Volumen), distinguiendo entre aquellas cervezas con valores superiores a los 6° y las que son hasta de 6°.\n",
    "\n",
    "Se utilizarán indiscriminadamente las librerías gráficas Matplotlib y Seaborn para la presentación gráfica de la información."
   ]
  },
  {
   "attachments": {},
   "cell_type": "markdown",
   "metadata": {},
   "source": [
    "### Descripción de la base de datos:"
   ]
  },
  {
   "attachments": {},
   "cell_type": "markdown",
   "metadata": {},
   "source": [
    "Creamos la base de datos a partir de un archivo CSV y la copiamos a un Data Frame (de Pandas) de trabajo, el cual modificaremos indiscriminadamente sin correr riesgo de alterar la información original.\n",
    "\n",
    "Importaremos todas las librerías a utilizar."
   ]
  },
  {
   "cell_type": "code",
   "execution_count": 3,
   "metadata": {},
   "outputs": [],
   "source": [
    "# Importación de librerías a usar:\n",
    "import pandas as pd\n",
    "import numpy as np\n",
    "import matplotlib as mpl\n",
    "import matplotlib.pyplot as plt\n",
    "import seaborn as sns\n",
    "\n",
    "# Ubicación del archivo CSV dentro de el Codespace:\n",
    "data_set_csv = \"/workspaces/Coderhouse/Proyecto/Data/Raw/Beer Profiles and Ratings.csv\"\n",
    "\n",
    "# Creación del Data Frame:\n",
    "data_set = pd.read_csv(data_set_csv)\n",
    "data_frame = pd.DataFrame(data_set)\n",
    "\n",
    "# Creación del Data Frame de trabajo y copia de valores:\n",
    "wrk_df = data_frame.copy()\n",
    "\n",
    "# Características para nuestros gráficos.\n",
    "mpl.rcParams['axes.titleweight'] = 'heavy'"
   ]
  },
  {
   "attachments": {},
   "cell_type": "markdown",
   "metadata": {},
   "source": [
    "Modificaciones al Data Frame de trabajo para mejorar la trabajabilidad con el mismo."
   ]
  },
  {
   "cell_type": "code",
   "execution_count": 11,
   "metadata": {},
   "outputs": [],
   "source": [
    "# Renombramos la columna \"Beer Name (Full)\" para evitar errores de código:\n",
    "wrk_df.rename(columns = {'Beer Name (Full)' : 'Full_name'}, inplace = True)\n",
    "\n",
    "# Columna \"Name\" se usa como índice.\n",
    "wrk_df = wrk_df.set_index('Name')\n",
    "\n",
    "# Obtenemos un array con el promedio de IBU de cada cerveza.\n",
    "prom_IBU = pd.DataFrame((wrk_df[[\"Min IBU\", \"Max IBU\"]].mean(axis = 1)), columns = ['IBU_Promedio'])\n",
    "\n",
    "# Agregamos la columna IBU Promedio a nuestra copia del Data Set.\n",
    "wrk_df = pd.concat([wrk_df,prom_IBU], axis = 1)\n",
    "\n",
    "# Separando la columna Style\n",
    "wrk_df[[\"Style\", \"Secondary Style\"]] = wrk_df.Style.str.split(\" - \", expand = True)"
   ]
  },
  {
   "attachments": {},
   "cell_type": "markdown",
   "metadata": {},
   "source": [
    "Descripción del Data Frame de trabajo (No se ha quitado ningún valor, solo se han modificado las columnas para hacerlas más trabajables)."
   ]
  },
  {
   "cell_type": "code",
   "execution_count": null,
   "metadata": {},
   "outputs": [],
   "source": [
    "print(f\"Forma del Data Frame: {wrk_df.shape}\")\n",
    "print(f\"Número de dimensiones del Data Frame: {wrk_df.ndim}\")\n",
    "print(f\"Cantidad de datos del Data Frame: {wrk_df.size}\")\n",
    "print(f\"Cantidad de columnas del Data Frame: {wrk_df.columns}\")"
   ]
  },
  {
   "cell_type": "code",
   "execution_count": null,
   "metadata": {},
   "outputs": [],
   "source": [
    "# Se presentan el número de datos nulos en cada columna.\n",
    "wrk_df.isnull().sum()"
   ]
  },
  {
   "cell_type": "code",
   "execution_count": null,
   "metadata": {},
   "outputs": [],
   "source": [
    "# Método .info() para presentar la cantidad de objetos no vacíos de cada columna y el tipo de dato.\n",
    "# El método se aplica exclusivamente a las columnas que más nos interesan.\n",
    "wrk_df.loc[(),(\"Name\",\"ABV\",\"Min IBU\",\"Max IBU\",\"review_aroma\",\"review_palate\",\"review_taste\",\"review_overall\",\"number_of_reviews\")].info()"
   ]
  },
  {
   "cell_type": "code",
   "execution_count": null,
   "metadata": {},
   "outputs": [],
   "source": [
    "# Método describe() para obtener información estadística preliminar:\n",
    "wrk_df.describe().round(2).T"
   ]
  },
  {
   "cell_type": "code",
   "execution_count": 13,
   "metadata": {},
   "outputs": [
    {
     "name": "stdout",
     "output_type": "stream",
     "text": [
      "3197\n"
     ]
    }
   ],
   "source": [
    "# Número de Cervezas distintas:\n",
    "beer_cnt = wrk_df.Full_name.unique().size\n",
    "print(beer_cnt)"
   ]
  }
 ],
 "metadata": {
  "kernelspec": {
   "display_name": "Python 3",
   "language": "python",
   "name": "python3"
  },
  "language_info": {
   "codemirror_mode": {
    "name": "ipython",
    "version": 3
   },
   "file_extension": ".py",
   "mimetype": "text/x-python",
   "name": "python",
   "nbconvert_exporter": "python",
   "pygments_lexer": "ipython3",
   "version": "3.10.4"
  },
  "orig_nbformat": 4,
  "vscode": {
   "interpreter": {
    "hash": "3ad933181bd8a04b432d3370b9dc3b0662ad032c4dfaa4e4f1596c548f763858"
   }
  }
 },
 "nbformat": 4,
 "nbformat_minor": 2
}
