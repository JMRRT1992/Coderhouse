{
 "cells": [
  {
   "attachments": {},
   "cell_type": "markdown",
   "metadata": {},
   "source": [
    "# Pre Entrega # 10\n",
    "## Proyecto Data Science\n",
    "##### Data Science - 32845\n",
    "### José María Reyes Retana Tamayo\n",
    "### Profesor: David Bustos Usta\n",
    "### Tutor: Anahí García"
   ]
  },
  {
   "attachments": {},
   "cell_type": "markdown",
   "metadata": {},
   "source": [
    "## Resumen (Abstract):"
   ]
  },
  {
   "attachments": {},
   "cell_type": "markdown",
   "metadata": {},
   "source": [
    "El siguiente estudio se centra en el análisis de un conjunto de 3197 marcas de cervezas de 934 compañías productoras de cerveza que han sido evaluadas por usuarios a través de cuestionarios en línea, así mismo, se cuenta con la información reportada por las productoras sobre sus bebidas. Las cervezas son locales y son solamente de EEUU, del mismo modo, las evaluaciones son emitidas únicamente por consumidores de dicho país, por lo que este estudio no debe considerarse como válido para cualquier región fuera de los EEUU y más bien será tratado como una muestra pequeña dentro del universo cervecero pero que puede orientar a los lectores en cuanto a las tendencias y gustos vigentes.\n",
    "\n",
    "La intención de este estudio ha sido la de comparar la información presentada por los productores de cerveza y comparar estos valores con las evaluaciones de los usuarios con la intención de encontrar que variables son las que más afectan a que una cerveza obtenga buenos resultados en el mercado de cervezas artesanales de los EEUU. Para lo anterior, se han realizado primero una indagación de los datos de forma gráfica a modo de análisis exploratorio de la información y obtención preliminar de resultados. Siguiente, se realizaron los cálculos matemáticos estadíticos para obtener valores de desviación estándar de las variables analizadas, coeficientes de correlación (donde así se propuso), prueba de hipótesis mediante el llamado \"p valor\", entre otros.\n",
    "\n",
    "Las principales variables analizadas para este estudio han sido las relacionadas con el sabor de la cerveza: amargor y alcohol; y se han comparado con la evaluación que los consumidores han dado en las clasificaciones de: Aroma, Apariencia, Sensación en el Paladar, Sabor y Evaluación General.\n",
    "\n",
    "A través de esta investigación, se ha observado que la calificación que un usuario da a cierta cerveza va estrechamente relacionada con la calificación que dará a la cerveza como conjunto; sin embargo, resulta difícil predecir cuál será la calificación de sabor de una cerveza."
   ]
  },
  {
   "attachments": {},
   "cell_type": "markdown",
   "metadata": {},
   "source": [
    "## Índice:\n",
    "1. Contexto del Estudio.\\\n",
    "    1.1 Contexto Comercial.\\\n",
    "    1.2 Contexto Analítico.\n",
    "2. Conjunto de Datos.\n",
    "3. Definición de las variables.\n",
    "4. Análisis descriptivo de la información (EDA).\n",
    "5. Hipótesis del proyecto.\\\n",
    "    5.1 Metodología de evaluación de las hipótesis.\n",
    "6. Objetivo del proyecto.\\\n",
    "    6.1 Metodología propuesta.\n",
    "7. Obtención de información.\n",
    "8. Modelo de clasificación.\\\n",
    "    8.1 Selección de atributos (Feature Selection).\\\n",
    "    8.2 Creación y calibración del modelo de ML.\\\n",
    "    8.3 Prueba del modelo.\\\n",
    "    8.4 Métricas del modelo.\n",
    "9. Modelo de regresión.\\\n",
    "    9.1 Selección de atributos (Feature Selection).\\\n",
    "    9.2 Creación y calibración del modelo de ML.\\\n",
    "    9.3 Prueba del modelo.\\\n",
    "    9.4 Métricas del modelo.\n",
    "10. Conclusiones.\\\n",
    "    10.1 Conclusiones sobre las hipótesis.\\\n",
    "    10.2 Conclusiones sobre los modelos de ML.\\\n",
    "    10.3 Pensamientos finales."
   ]
  },
  {
   "attachments": {},
   "cell_type": "markdown",
   "metadata": {},
   "source": [
    "## 1. Contexto del Estudio:"
   ]
  },
  {
   "attachments": {},
   "cell_type": "markdown",
   "metadata": {},
   "source": [
    "### 1.1 Contexto Comercial:"
   ]
  },
  {
   "attachments": {},
   "cell_type": "markdown",
   "metadata": {},
   "source": [
    "La industria de la cerveza es una de las pocas que pueden considerarse milenarias, el consumo de esta bebida está tan ligado a la humanidad como el pan mismo, siendo que prácticamente se dieron a la par. Sin embargo, si bien la bebida lleva ya milenios, literalmente, de consumo, sus estilos, presentaciones y hasta la forma y lugar donde se bebe han cambiado radicalmente, especialmente desde la invención de la refrigeración que ha permitido la exportación de estilos locales a todo el mundo y ha abierto el mercado de una forma sin precendente en la industria.\n",
    "\n",
    "Por lo anterior, cada vez más, las distintas variedades de cerveza encuentran sus nichos de consumidores y se crean nuevos \"sub-mercados\" en los que la competencia ya no es contra todas las variedades, si no contra las de características similares por ser así de segmentados los gustos de los consumidores.\n",
    "\n",
    "De acuerdo a lo ya mencionado, es importante que antes de comenzar con la producción con una nueva línea de cerveza, vale la pena comprender el nicho del mercado al que se quiere atender."
   ]
  },
  {
   "attachments": {},
   "cell_type": "markdown",
   "metadata": {},
   "source": [
    "### 1.2 Contexto Analítico:"
   ]
  },
  {
   "attachments": {},
   "cell_type": "markdown",
   "metadata": {},
   "source": [
    "Se ha conseguido una base de datos que contiene más de tres mil marcas de cerveza diferentes, todas ellas de producción local (no en masa) en los Estados Unidos de América (EEUU).\n",
    "\n",
    "La información no viene filtrada y se deberán realizar ajustes a las columnas y cálculos previos para poder mejorar la entendibilidad de los datos.\n",
    "\n",
    "Se utilizarán procesos estadísticos para agrupar la información y para establecer patrones."
   ]
  },
  {
   "attachments": {},
   "cell_type": "markdown",
   "metadata": {},
   "source": [
    "## Conjunto de Datos:"
   ]
  },
  {
   "attachments": {},
   "cell_type": "markdown",
   "metadata": {},
   "source": [
    "Se ha elegido trabajar con el data set nombrado \"Beer Profiles and Ratings\", obtenido de Kaggle en:\n",
    "###### https://www.kaggle.com/code/aeryan/spotify-music-analysis/data"
   ]
  },
  {
   "attachments": {},
   "cell_type": "markdown",
   "metadata": {},
   "source": [
    "Creamos la base de datos a partir de un archivo CSV y la copiamos a un Data Frame (de Pandas) de trabajo, el cual modificaremos indiscriminadamente sin correr riesgo de alterar la información original."
   ]
  },
  {
   "cell_type": "code",
   "execution_count": 26,
   "metadata": {},
   "outputs": [
    {
     "name": "stdout",
     "output_type": "stream",
     "text": [
      "<class 'pandas.core.frame.DataFrame'>\n"
     ]
    },
    {
     "data": {
      "text/html": [
       "<div>\n",
       "<style scoped>\n",
       "    .dataframe tbody tr th:only-of-type {\n",
       "        vertical-align: middle;\n",
       "    }\n",
       "\n",
       "    .dataframe tbody tr th {\n",
       "        vertical-align: top;\n",
       "    }\n",
       "\n",
       "    .dataframe thead th {\n",
       "        text-align: right;\n",
       "    }\n",
       "</style>\n",
       "<table border=\"1\" class=\"dataframe\">\n",
       "  <thead>\n",
       "    <tr style=\"text-align: right;\">\n",
       "      <th></th>\n",
       "      <th>Name</th>\n",
       "      <th>Style</th>\n",
       "      <th>Brewery</th>\n",
       "      <th>Beer Name (Full)</th>\n",
       "      <th>Description</th>\n",
       "      <th>ABV</th>\n",
       "      <th>Min IBU</th>\n",
       "      <th>Max IBU</th>\n",
       "      <th>Astringency</th>\n",
       "      <th>Body</th>\n",
       "      <th>...</th>\n",
       "      <th>Fruits</th>\n",
       "      <th>Hoppy</th>\n",
       "      <th>Spices</th>\n",
       "      <th>Malty</th>\n",
       "      <th>review_aroma</th>\n",
       "      <th>review_appearance</th>\n",
       "      <th>review_palate</th>\n",
       "      <th>review_taste</th>\n",
       "      <th>review_overall</th>\n",
       "      <th>number_of_reviews</th>\n",
       "    </tr>\n",
       "  </thead>\n",
       "  <tbody>\n",
       "    <tr>\n",
       "      <th>0</th>\n",
       "      <td>Amber</td>\n",
       "      <td>Altbier</td>\n",
       "      <td>Alaskan Brewing Co.</td>\n",
       "      <td>Alaskan Brewing Co. Alaskan Amber</td>\n",
       "      <td>Notes:Richly malty and long on the palate, wit...</td>\n",
       "      <td>5.3</td>\n",
       "      <td>25</td>\n",
       "      <td>50</td>\n",
       "      <td>13</td>\n",
       "      <td>32</td>\n",
       "      <td>...</td>\n",
       "      <td>33</td>\n",
       "      <td>57</td>\n",
       "      <td>8</td>\n",
       "      <td>111</td>\n",
       "      <td>3.498994</td>\n",
       "      <td>3.636821</td>\n",
       "      <td>3.556338</td>\n",
       "      <td>3.643863</td>\n",
       "      <td>3.847082</td>\n",
       "      <td>497</td>\n",
       "    </tr>\n",
       "    <tr>\n",
       "      <th>1</th>\n",
       "      <td>Double Bag</td>\n",
       "      <td>Altbier</td>\n",
       "      <td>Long Trail Brewing Co.</td>\n",
       "      <td>Long Trail Brewing Co. Double Bag</td>\n",
       "      <td>Notes:This malty, full-bodied double alt is al...</td>\n",
       "      <td>7.2</td>\n",
       "      <td>25</td>\n",
       "      <td>50</td>\n",
       "      <td>12</td>\n",
       "      <td>57</td>\n",
       "      <td>...</td>\n",
       "      <td>24</td>\n",
       "      <td>35</td>\n",
       "      <td>12</td>\n",
       "      <td>84</td>\n",
       "      <td>3.798337</td>\n",
       "      <td>3.846154</td>\n",
       "      <td>3.904366</td>\n",
       "      <td>4.024948</td>\n",
       "      <td>4.034304</td>\n",
       "      <td>481</td>\n",
       "    </tr>\n",
       "    <tr>\n",
       "      <th>2</th>\n",
       "      <td>Long Trail Ale</td>\n",
       "      <td>Altbier</td>\n",
       "      <td>Long Trail Brewing Co.</td>\n",
       "      <td>Long Trail Brewing Co. Long Trail Ale</td>\n",
       "      <td>Notes:Long Trail Ale is a full-bodied amber al...</td>\n",
       "      <td>5.0</td>\n",
       "      <td>25</td>\n",
       "      <td>50</td>\n",
       "      <td>14</td>\n",
       "      <td>37</td>\n",
       "      <td>...</td>\n",
       "      <td>10</td>\n",
       "      <td>54</td>\n",
       "      <td>4</td>\n",
       "      <td>62</td>\n",
       "      <td>3.409814</td>\n",
       "      <td>3.667109</td>\n",
       "      <td>3.600796</td>\n",
       "      <td>3.631300</td>\n",
       "      <td>3.830239</td>\n",
       "      <td>377</td>\n",
       "    </tr>\n",
       "    <tr>\n",
       "      <th>3</th>\n",
       "      <td>Doppelsticke</td>\n",
       "      <td>Altbier</td>\n",
       "      <td>Uerige Obergärige Hausbrauerei GmbH / Zum Uerige</td>\n",
       "      <td>Uerige Obergärige Hausbrauerei GmbH / Zum Ueri...</td>\n",
       "      <td>Notes:</td>\n",
       "      <td>8.5</td>\n",
       "      <td>25</td>\n",
       "      <td>50</td>\n",
       "      <td>13</td>\n",
       "      <td>55</td>\n",
       "      <td>...</td>\n",
       "      <td>49</td>\n",
       "      <td>40</td>\n",
       "      <td>16</td>\n",
       "      <td>119</td>\n",
       "      <td>4.148098</td>\n",
       "      <td>4.033967</td>\n",
       "      <td>4.150815</td>\n",
       "      <td>4.205163</td>\n",
       "      <td>4.005435</td>\n",
       "      <td>368</td>\n",
       "    </tr>\n",
       "    <tr>\n",
       "      <th>4</th>\n",
       "      <td>Sleigh'r Dark Doüble Alt Ale</td>\n",
       "      <td>Altbier</td>\n",
       "      <td>Ninkasi Brewing Company</td>\n",
       "      <td>Ninkasi Brewing Company Sleigh'r Dark Doüble A...</td>\n",
       "      <td>Notes:Called 'Dark Double Alt' on the label.Se...</td>\n",
       "      <td>7.2</td>\n",
       "      <td>25</td>\n",
       "      <td>50</td>\n",
       "      <td>25</td>\n",
       "      <td>51</td>\n",
       "      <td>...</td>\n",
       "      <td>11</td>\n",
       "      <td>51</td>\n",
       "      <td>20</td>\n",
       "      <td>95</td>\n",
       "      <td>3.625000</td>\n",
       "      <td>3.973958</td>\n",
       "      <td>3.734375</td>\n",
       "      <td>3.765625</td>\n",
       "      <td>3.817708</td>\n",
       "      <td>96</td>\n",
       "    </tr>\n",
       "  </tbody>\n",
       "</table>\n",
       "<p>5 rows × 25 columns</p>\n",
       "</div>"
      ],
      "text/plain": [
       "                           Name    Style  \\\n",
       "0                         Amber  Altbier   \n",
       "1                    Double Bag  Altbier   \n",
       "2                Long Trail Ale  Altbier   \n",
       "3                  Doppelsticke  Altbier   \n",
       "4  Sleigh'r Dark Doüble Alt Ale  Altbier   \n",
       "\n",
       "                                            Brewery  \\\n",
       "0                               Alaskan Brewing Co.   \n",
       "1                            Long Trail Brewing Co.   \n",
       "2                            Long Trail Brewing Co.   \n",
       "3  Uerige Obergärige Hausbrauerei GmbH / Zum Uerige   \n",
       "4                           Ninkasi Brewing Company   \n",
       "\n",
       "                                    Beer Name (Full)  \\\n",
       "0                  Alaskan Brewing Co. Alaskan Amber   \n",
       "1                  Long Trail Brewing Co. Double Bag   \n",
       "2              Long Trail Brewing Co. Long Trail Ale   \n",
       "3  Uerige Obergärige Hausbrauerei GmbH / Zum Ueri...   \n",
       "4  Ninkasi Brewing Company Sleigh'r Dark Doüble A...   \n",
       "\n",
       "                                         Description  ABV  Min IBU  Max IBU  \\\n",
       "0  Notes:Richly malty and long on the palate, wit...  5.3       25       50   \n",
       "1  Notes:This malty, full-bodied double alt is al...  7.2       25       50   \n",
       "2  Notes:Long Trail Ale is a full-bodied amber al...  5.0       25       50   \n",
       "3                                             Notes:  8.5       25       50   \n",
       "4  Notes:Called 'Dark Double Alt' on the label.Se...  7.2       25       50   \n",
       "\n",
       "   Astringency  Body  ...  Fruits  Hoppy  Spices  Malty  review_aroma  \\\n",
       "0           13    32  ...      33     57       8    111      3.498994   \n",
       "1           12    57  ...      24     35      12     84      3.798337   \n",
       "2           14    37  ...      10     54       4     62      3.409814   \n",
       "3           13    55  ...      49     40      16    119      4.148098   \n",
       "4           25    51  ...      11     51      20     95      3.625000   \n",
       "\n",
       "   review_appearance  review_palate  review_taste  review_overall  \\\n",
       "0           3.636821       3.556338      3.643863        3.847082   \n",
       "1           3.846154       3.904366      4.024948        4.034304   \n",
       "2           3.667109       3.600796      3.631300        3.830239   \n",
       "3           4.033967       4.150815      4.205163        4.005435   \n",
       "4           3.973958       3.734375      3.765625        3.817708   \n",
       "\n",
       "   number_of_reviews  \n",
       "0                497  \n",
       "1                481  \n",
       "2                377  \n",
       "3                368  \n",
       "4                 96  \n",
       "\n",
       "[5 rows x 25 columns]"
      ]
     },
     "execution_count": 26,
     "metadata": {},
     "output_type": "execute_result"
    }
   ],
   "source": [
    "# Importación de librerías iniciales:\n",
    "import pandas as pd\n",
    "import numpy as np\n",
    "\n",
    "# Ubicación del archivo CSV dentro de el Codespace:\n",
    "data_set_csv = \"/workspaces/Coderhouse/Proyecto/Data/Raw/Beer Profiles and Ratings.csv\"\n",
    "\n",
    "# Creación del Data Frame:\n",
    "data_set = pd.read_csv(data_set_csv)\n",
    "\n",
    "print(type(data_set))\n",
    "data_set.head()"
   ]
  },
  {
   "attachments": {},
   "cell_type": "markdown",
   "metadata": {},
   "source": [
    "Descripción del Data Frame donde se presenta la información con la que trabajaremos:"
   ]
  },
  {
   "cell_type": "code",
   "execution_count": 27,
   "metadata": {},
   "outputs": [
    {
     "name": "stdout",
     "output_type": "stream",
     "text": [
      "Forma del Data Frame: (3197, 25)\n",
      "Número de dimensiones del Data Frame: 2\n",
      "Cantidad de datos del Data Frame: 79925\n",
      "Nombre de las columnas del Data Frame: Index(['Name', 'Style', 'Brewery', 'Beer Name (Full)', 'Description', 'ABV',\n",
      "       'Min IBU', 'Max IBU', 'Astringency', 'Body', 'Alcohol', 'Bitter',\n",
      "       'Sweet', 'Sour', 'Salty', 'Fruits', 'Hoppy', 'Spices', 'Malty',\n",
      "       'review_aroma', 'review_appearance', 'review_palate', 'review_taste',\n",
      "       'review_overall', 'number_of_reviews'],\n",
      "      dtype='object')\n"
     ]
    }
   ],
   "source": [
    "print(f\"Forma del Data Frame: {data_set.shape}\")\n",
    "print(f\"Número de dimensiones del Data Frame: {data_set.ndim}\")\n",
    "print(f\"Cantidad de datos del Data Frame: {data_set.size}\")\n",
    "print(f\"Nombre de las columnas del Data Frame: {data_set.columns}\")"
   ]
  },
  {
   "cell_type": "code",
   "execution_count": 28,
   "metadata": {},
   "outputs": [
    {
     "data": {
      "text/plain": [
       "Name                 0\n",
       "Style                0\n",
       "Brewery              0\n",
       "Beer Name (Full)     0\n",
       "Description          0\n",
       "ABV                  0\n",
       "Min IBU              0\n",
       "Max IBU              0\n",
       "Astringency          0\n",
       "Body                 0\n",
       "Alcohol              0\n",
       "Bitter               0\n",
       "Sweet                0\n",
       "Sour                 0\n",
       "Salty                0\n",
       "Fruits               0\n",
       "Hoppy                0\n",
       "Spices               0\n",
       "Malty                0\n",
       "review_aroma         0\n",
       "review_appearance    0\n",
       "review_palate        0\n",
       "review_taste         0\n",
       "review_overall       0\n",
       "number_of_reviews    0\n",
       "dtype: int64"
      ]
     },
     "execution_count": 28,
     "metadata": {},
     "output_type": "execute_result"
    }
   ],
   "source": [
    "# Se presentan el número de datos nulos en cada columna.\n",
    "data_set.isnull().sum()"
   ]
  },
  {
   "attachments": {},
   "cell_type": "markdown",
   "metadata": {},
   "source": [
    "Como podemos observar, no contamos con datos nulos en nuestra información y se tienen 3,197 entradas, cada una representando una cerveza diferente, misma que se ve descrita en 25 columnas en las que se especifican sus características."
   ]
  },
  {
   "cell_type": "code",
   "execution_count": 29,
   "metadata": {},
   "outputs": [
    {
     "name": "stdout",
     "output_type": "stream",
     "text": [
      "<class 'pandas.core.frame.DataFrame'>\n",
      "RangeIndex: 3197 entries, 0 to 3196\n",
      "Data columns (total 25 columns):\n",
      " #   Column             Non-Null Count  Dtype  \n",
      "---  ------             --------------  -----  \n",
      " 0   Name               3197 non-null   object \n",
      " 1   Style              3197 non-null   object \n",
      " 2   Brewery            3197 non-null   object \n",
      " 3   Beer Name (Full)   3197 non-null   object \n",
      " 4   Description        3197 non-null   object \n",
      " 5   ABV                3197 non-null   float64\n",
      " 6   Min IBU            3197 non-null   int64  \n",
      " 7   Max IBU            3197 non-null   int64  \n",
      " 8   Astringency        3197 non-null   int64  \n",
      " 9   Body               3197 non-null   int64  \n",
      " 10  Alcohol            3197 non-null   int64  \n",
      " 11  Bitter             3197 non-null   int64  \n",
      " 12  Sweet              3197 non-null   int64  \n",
      " 13  Sour               3197 non-null   int64  \n",
      " 14  Salty              3197 non-null   int64  \n",
      " 15  Fruits             3197 non-null   int64  \n",
      " 16  Hoppy              3197 non-null   int64  \n",
      " 17  Spices             3197 non-null   int64  \n",
      " 18  Malty              3197 non-null   int64  \n",
      " 19  review_aroma       3197 non-null   float64\n",
      " 20  review_appearance  3197 non-null   float64\n",
      " 21  review_palate      3197 non-null   float64\n",
      " 22  review_taste       3197 non-null   float64\n",
      " 23  review_overall     3197 non-null   float64\n",
      " 24  number_of_reviews  3197 non-null   int64  \n",
      "dtypes: float64(6), int64(14), object(5)\n",
      "memory usage: 624.5+ KB\n"
     ]
    }
   ],
   "source": [
    "# Método .info() para presentar la cantidad y el tipo de datos.\n",
    "data_set.info()"
   ]
  },
  {
   "attachments": {},
   "cell_type": "markdown",
   "metadata": {},
   "source": [
    "En la anterior tabla, podemos ver que la mayoría de nuestras variables son numéricas cuantitativas, lo cual nos permitirá trabajar más facilmente con modelos de Machine Learning sin necesidad de aplicar procesos de codificación de variables o etiquetado."
   ]
  },
  {
   "attachments": {},
   "cell_type": "markdown",
   "metadata": {},
   "source": [
    "## 3. Definición de las variables:"
   ]
  },
  {
   "attachments": {},
   "cell_type": "markdown",
   "metadata": {},
   "source": [
    "Este data set contiene 25 columnas, las cuales se describen a continuación.\n",
    "\n",
    "* Name: nombre de la cerveza, como se presenta en la etiqueta.\n",
    "\n",
    "* Style: estilo de la cerveza.\n",
    "\n",
    "* Brewery: nombre de la compañía cervecera que produce.\n",
    "\n",
    "* Beer Name (Full): identificador único para cada cerveza, presenta nombre de la cerveza y la cervecera.\n",
    "\n",
    "* Description: descripción de la cerveza de acuerdo al productor, no disponible para todas las cervezas presentadas.\n",
    "\n",
    "* ABV: contenido de alcohol (% por volumen).\n",
    "###### “International Bitterness Unit”, es la unidad utilizada para cuantificar que tan amarga es una cerveza. Los valores se presentan en un intervalo de 0 a 100, donde 0 es nada amargo y valores cercanos a 100 representan un alto grado de amargura.\n",
    "* Min IBU: en esta columna se presentan los valores mínimos esperados de amargura.\n",
    "\n",
    "* Max IBU: en esta columna se presentan los valores máximos esperados de amargura.\n",
    "###### Las siguientes columnas presentan una calificación arbitraria otorgada por el autor del documento, que para este estudio se simplificará solo al valor numérico. Para cada uno de los aspectos evaluados por los consumidores. Entre mayor es la calificación, significa que dicha característica es más remarcable o evidente en la bebida.\n",
    "* Astringency: astringencia.\n",
    "\n",
    "* Body: cuerpo, que tan “densa” se siente en la boca.\n",
    "\n",
    "* Alcohol: sensación de alcohol. No confundir con los grados de alcohol que es una medida objetiva, esta es la sensación que los consumidores tuvieron.\n",
    "\n",
    "* Bitter: amargor. No confundir con los grados IBU que es una medida objetiva, esta es la sensación que los consumidores tuvieron.\n",
    "\n",
    "* Sweet: dulzor.\n",
    "\n",
    "* Sour: sabor ácido.\n",
    "\n",
    "* Fruits: sabor afrutado.\n",
    "\n",
    "* Hoppy: sabor a lúpulo.\n",
    "\n",
    "* Spices: sabor a especias.\n",
    "\n",
    "* Malty: sabor a malta (de cebada, trigo o cualquiera que sea el cereal con el que se elaboró la cerveza).\n",
    "###### Las últimas seis columnas presentan la calificación general que los consumidores otorgaron a los distintos aspectos de la cerveza y el promedio general. Las calificaciones van del 0 al 5, puesto que la información fue obtenida de un portal donde se evaluaba mediante estrellas, siendo 5 el máximo valor posible.\n",
    "* review _ aroma: evaluación del aroma (percepción olfativa) de la cerveza.\n",
    "\n",
    "* review _ appearance: evaluación de la apariencia (percepción visual) de la cerveza.\n",
    "\n",
    "* review _ palate: evaluación de la sensación en el paladar.\n",
    "\n",
    "* review _ taste: evaluación del sabor (percepción del gusto) de la cerveza.\n",
    "\n",
    "* review _ overall: evaluación global de la cerveza.\n",
    "* number _ of _ reviews: total de evaluaciones recibidas."
   ]
  },
  {
   "attachments": {},
   "cell_type": "markdown",
   "metadata": {},
   "source": [
    "## Análisis descriptivo de la información (EDA):"
   ]
  },
  {
   "cell_type": "code",
   "execution_count": 30,
   "metadata": {},
   "outputs": [
    {
     "name": "stdout",
     "output_type": "stream",
     "text": [
      "<class 'pandas.core.frame.DataFrame'>\n"
     ]
    }
   ],
   "source": [
    "# Importamos las librerías a utilizar:\n",
    "import matplotlib as mpl\n",
    "import matplotlib.pyplot as plt\n",
    "import seaborn as sns\n",
    "\n",
    "# Características para nuestros gráficos.\n",
    "mpl.rcParams['axes.titleweight'] = 'heavy'\n",
    "\n",
    "# Creamos el data frame de trabajo para evitar perder información:\n",
    "wrk_df = data_set.copy()\n",
    "\n",
    "print(type(wrk_df))"
   ]
  },
  {
   "cell_type": "code",
   "execution_count": 31,
   "metadata": {},
   "outputs": [
    {
     "name": "stdout",
     "output_type": "stream",
     "text": [
      "Columna Name tiene 3066 valores únicos.\n",
      "Columna Style tiene 111 valores únicos.\n",
      "Columna Brewery tiene 934 valores únicos.\n",
      "Columna Beer Name (Full) tiene 3197 valores únicos.\n",
      "Columna Description tiene 1841 valores únicos.\n"
     ]
    }
   ],
   "source": [
    "for col in wrk_df.columns:\n",
    "    if wrk_df[col].dtype == 'object':\n",
    "        valores_unicos = wrk_df[col].nunique()\n",
    "        print(f\"Columna {col} tiene {valores_unicos} valores únicos.\")"
   ]
  },
  {
   "attachments": {},
   "cell_type": "markdown",
   "metadata": {},
   "source": [
    "Puesto que ya hemos dado un vistazo a las distintas columnas y la forma en que los datos vienen presentados en el data frame original, se proponen algunos cambios a las columnas para poder procesar mejor la información.\n",
    "\n",
    "Los cambios a realizar serán:\n",
    "* Renombrar la columna Beer Name (Full) para hacerla más manejable.\\\n",
    "* Crear una columna con el valor promedio de la graduación IBU de las cervezas.\\\n",
    "    ** Se reporta un valor máximo y un valor mínimo de grados IBU en esta base de datos puesto que se trata de cervezas artesanales que aún son suceptibles a diferencias entre lote y lote.\n",
    "* En base a investigación realizada para la mejor comprensión de los datos, se encuentra que un estándar en la industria cervecera es que una graduación de más de 35 grados IBU se considera una cerveza muy amarga y menor graduación que eso se considera poco amarga.\\\n",
    "* En base a investigación realizada para la mejor comprensión de los datos, se encuentra que un estándar en la industria cervecera es que una graduación de más de 6 grados de alcohol ABV se considera Alto y menos es lo normal.\\\n",
    "* Se separó la columna Style en dos, el principal y el secundario, ya que haciendo una revisión de esa columna se tenían demasiados estilos muy segmentados que dificultarían el modelo de clasificación."
   ]
  },
  {
   "cell_type": "code",
   "execution_count": 32,
   "metadata": {},
   "outputs": [],
   "source": [
    "# Renombramos la columna \"Beer Name (Full)\" para evitar errores de código:\n",
    "wrk_df.rename(columns = {'Beer Name (Full)' : 'Full_name'}, inplace = True)\n",
    "\n",
    "# Obtenemos un array con el promedio de IBU de cada cerveza.\n",
    "prom_IBU = pd.DataFrame((wrk_df[[\"Min IBU\", \"Max IBU\"]].mean(axis = 1)), columns = ['IBU_Promedio'])\n",
    "\n",
    "# Agregamos la columna IBU Promedio a nuestra copia del Data Set.\n",
    "wrk_df = pd.concat([wrk_df,prom_IBU], axis = 1)\n",
    "\n",
    "# Creamos una columna que identique las cervezas si tienen más o menos de 35 Grados IBU:\n",
    "wrk_df['amargor'] = np.where(wrk_df['IBU_Promedio'] > 35, 'Muy amarga', 'Poco Amarga')\n",
    "\n",
    "# Separando la columna Style\n",
    "wrk_df[[\"Style\", \"Secondary Style\"]] = wrk_df.Style.str.split(\" - \", expand = True)\n",
    "\n",
    "# Creamos una columna que identique las cervezas si tienen más o menos de 6° de alcohol:\n",
    "wrk_df['nivel_alcohol'] = np.where(wrk_df['ABV'] >= 6, 'Alto', 'Normal')"
   ]
  },
  {
   "cell_type": "code",
   "execution_count": 33,
   "metadata": {},
   "outputs": [
    {
     "name": "stdout",
     "output_type": "stream",
     "text": [
      "Columna Name tiene 3066 valores únicos.\n",
      "Columna Style tiene 43 valores únicos.\n",
      "Columna Brewery tiene 934 valores únicos.\n",
      "Columna Full_name tiene 3197 valores únicos.\n",
      "Columna Description tiene 1841 valores únicos.\n",
      "Columna amargor tiene 2 valores únicos.\n",
      "Columna Secondary Style tiene 63 valores únicos.\n",
      "Columna nivel_alcohol tiene 2 valores únicos.\n"
     ]
    }
   ],
   "source": [
    "for col in wrk_df.columns:\n",
    "    if wrk_df[col].dtype == 'object':\n",
    "        valores_unicos = wrk_df[col].nunique()\n",
    "        print(f\"Columna {col} tiene {valores_unicos} valores únicos.\")"
   ]
  },
  {
   "attachments": {},
   "cell_type": "markdown",
   "metadata": {},
   "source": [
    "Vemos como pasamos de 111 estilos distintos a solo 43, así como la clasificación en dos categorías para el IBU y el nivel de alcohol."
   ]
  }
 ],
 "metadata": {
  "kernelspec": {
   "display_name": "Python 3",
   "language": "python",
   "name": "python3"
  },
  "language_info": {
   "codemirror_mode": {
    "name": "ipython",
    "version": 3
   },
   "file_extension": ".py",
   "mimetype": "text/x-python",
   "name": "python",
   "nbconvert_exporter": "python",
   "pygments_lexer": "ipython3",
   "version": "3.10.4"
  },
  "orig_nbformat": 4
 },
 "nbformat": 4,
 "nbformat_minor": 2
}
